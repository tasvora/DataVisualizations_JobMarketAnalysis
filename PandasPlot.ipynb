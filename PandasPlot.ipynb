{
 "cells": [
  {
   "cell_type": "code",
   "execution_count": 8,
   "metadata": {},
   "outputs": [],
   "source": [
    "import pandas as pd\n",
    "import seaborn\n",
    "import matplotlib.pyplot as plt"
   ]
  },
  {
   "cell_type": "code",
   "execution_count": 2,
   "metadata": {},
   "outputs": [
    {
     "data": {
      "text/html": [
       "<div>\n",
       "<style scoped>\n",
       "    .dataframe tbody tr th:only-of-type {\n",
       "        vertical-align: middle;\n",
       "    }\n",
       "\n",
       "    .dataframe tbody tr th {\n",
       "        vertical-align: top;\n",
       "    }\n",
       "\n",
       "    .dataframe thead th {\n",
       "        text-align: right;\n",
       "    }\n",
       "</style>\n",
       "<table border=\"1\" class=\"dataframe\">\n",
       "  <thead>\n",
       "    <tr style=\"text-align: right;\">\n",
       "      <th></th>\n",
       "      <th>company_name</th>\n",
       "      <th>title</th>\n",
       "      <th>job_title</th>\n",
       "      <th>job_summary</th>\n",
       "      <th>city</th>\n",
       "      <th>state</th>\n",
       "      <th>state1</th>\n",
       "      <th>region</th>\n",
       "    </tr>\n",
       "  </thead>\n",
       "  <tbody>\n",
       "    <tr>\n",
       "      <th>0</th>\n",
       "      <td>KIPP Foundation</td>\n",
       "      <td>Data Analyst</td>\n",
       "      <td>Data Analyst</td>\n",
       "      <td>KIPP Chicago seeks a full-time Data Analyst fo...</td>\n",
       "      <td>Chicago</td>\n",
       "      <td>IL</td>\n",
       "      <td>Illinois</td>\n",
       "      <td>Midwest</td>\n",
       "    </tr>\n",
       "    <tr>\n",
       "      <th>1</th>\n",
       "      <td>Magnum Insurance Agency</td>\n",
       "      <td>Data Analyst</td>\n",
       "      <td>Junior Data Analyst</td>\n",
       "      <td>Experience with python for data analysis.Magnu...</td>\n",
       "      <td>Des Plaines</td>\n",
       "      <td>IL</td>\n",
       "      <td>Illinois</td>\n",
       "      <td>Midwest</td>\n",
       "    </tr>\n",
       "    <tr>\n",
       "      <th>2</th>\n",
       "      <td>Everywhere Wireless</td>\n",
       "      <td>Data Analyst</td>\n",
       "      <td>Senior Data Analyst, Finance</td>\n",
       "      <td>Experience with scripting languages like Pytho...</td>\n",
       "      <td>Chicago</td>\n",
       "      <td>IL</td>\n",
       "      <td>Illinois</td>\n",
       "      <td>Midwest</td>\n",
       "    </tr>\n",
       "    <tr>\n",
       "      <th>3</th>\n",
       "      <td>5thColumn</td>\n",
       "      <td>Data Analyst</td>\n",
       "      <td>Senior Data Scientist</td>\n",
       "      <td>The Data Scientist / Data Analyst role will be...</td>\n",
       "      <td>Chicago</td>\n",
       "      <td>IL</td>\n",
       "      <td>Illinois</td>\n",
       "      <td>Midwest</td>\n",
       "    </tr>\n",
       "    <tr>\n",
       "      <th>4</th>\n",
       "      <td>Top-Line Furniture</td>\n",
       "      <td>Data Analyst</td>\n",
       "      <td>Business Data Analyst</td>\n",
       "      <td>Reconfigure data as necessary to conform to sy...</td>\n",
       "      <td>Itasca</td>\n",
       "      <td>IL</td>\n",
       "      <td>Illinois</td>\n",
       "      <td>Midwest</td>\n",
       "    </tr>\n",
       "  </tbody>\n",
       "</table>\n",
       "</div>"
      ],
      "text/plain": [
       "              company_name         title                     job_title  \\\n",
       "0          KIPP Foundation  Data Analyst                  Data Analyst   \n",
       "1  Magnum Insurance Agency  Data Analyst           Junior Data Analyst   \n",
       "2      Everywhere Wireless  Data Analyst  Senior Data Analyst, Finance   \n",
       "3                5thColumn  Data Analyst         Senior Data Scientist   \n",
       "4       Top-Line Furniture  Data Analyst         Business Data Analyst   \n",
       "\n",
       "                                         job_summary         city state  \\\n",
       "0  KIPP Chicago seeks a full-time Data Analyst fo...      Chicago    IL   \n",
       "1  Experience with python for data analysis.Magnu...  Des Plaines    IL   \n",
       "2  Experience with scripting languages like Pytho...      Chicago    IL   \n",
       "3  The Data Scientist / Data Analyst role will be...      Chicago    IL   \n",
       "4  Reconfigure data as necessary to conform to sy...       Itasca    IL   \n",
       "\n",
       "     state1   region  \n",
       "0  Illinois  Midwest  \n",
       "1  Illinois  Midwest  \n",
       "2  Illinois  Midwest  \n",
       "3  Illinois  Midwest  \n",
       "4  Illinois  Midwest  "
      ]
     },
     "execution_count": 2,
     "metadata": {},
     "output_type": "execute_result"
    }
   ],
   "source": [
    "file_to_load = \"db/indeed_jobs_byregion.csv\"\n",
    "\n",
    "# Read Purchasing File and store into Pandas data frame\n",
    "job_data = pd.read_csv(file_to_load)\n",
    "job_data.head()"
   ]
  },
  {
   "cell_type": "code",
   "execution_count": 3,
   "metadata": {},
   "outputs": [
    {
     "data": {
      "text/html": [
       "<div>\n",
       "<style scoped>\n",
       "    .dataframe tbody tr th:only-of-type {\n",
       "        vertical-align: middle;\n",
       "    }\n",
       "\n",
       "    .dataframe tbody tr th {\n",
       "        vertical-align: top;\n",
       "    }\n",
       "\n",
       "    .dataframe thead th {\n",
       "        text-align: right;\n",
       "    }\n",
       "</style>\n",
       "<table border=\"1\" class=\"dataframe\">\n",
       "  <thead>\n",
       "    <tr style=\"text-align: right;\">\n",
       "      <th></th>\n",
       "      <th>company_name</th>\n",
       "      <th>city</th>\n",
       "      <th>job_title</th>\n",
       "    </tr>\n",
       "  </thead>\n",
       "  <tbody>\n",
       "    <tr>\n",
       "      <th>0</th>\n",
       "      <td>#TeamGoHealth</td>\n",
       "      <td>Chicago</td>\n",
       "      <td>4</td>\n",
       "    </tr>\n",
       "    <tr>\n",
       "      <th>1</th>\n",
       "      <td>360i</td>\n",
       "      <td>Chicago</td>\n",
       "      <td>1</td>\n",
       "    </tr>\n",
       "    <tr>\n",
       "      <th>2</th>\n",
       "      <td>3M</td>\n",
       "      <td>Murray</td>\n",
       "      <td>2</td>\n",
       "    </tr>\n",
       "    <tr>\n",
       "      <th>3</th>\n",
       "      <td>4th-IR</td>\n",
       "      <td>New York</td>\n",
       "      <td>2</td>\n",
       "    </tr>\n",
       "    <tr>\n",
       "      <th>4</th>\n",
       "      <td>5thColumn</td>\n",
       "      <td>Chicago</td>\n",
       "      <td>2</td>\n",
       "    </tr>\n",
       "  </tbody>\n",
       "</table>\n",
       "</div>"
      ],
      "text/plain": [
       "    company_name      city  job_title\n",
       "0  #TeamGoHealth   Chicago          4\n",
       "1           360i   Chicago          1\n",
       "2             3M    Murray          2\n",
       "3         4th-IR  New York          2\n",
       "4      5thColumn   Chicago          2"
      ]
     },
     "execution_count": 3,
     "metadata": {},
     "output_type": "execute_result"
    }
   ],
   "source": [
    "role_city = job_data.groupby(['company_name','city'])[['job_title']].count()\n",
    "role_city = role_city.reset_index()\n",
    "role_city.head()"
   ]
  },
  {
   "cell_type": "code",
   "execution_count": 4,
   "metadata": {},
   "outputs": [
    {
     "data": {
      "text/html": [
       "<div>\n",
       "<style scoped>\n",
       "    .dataframe tbody tr th:only-of-type {\n",
       "        vertical-align: middle;\n",
       "    }\n",
       "\n",
       "    .dataframe tbody tr th {\n",
       "        vertical-align: top;\n",
       "    }\n",
       "\n",
       "    .dataframe thead th {\n",
       "        text-align: right;\n",
       "    }\n",
       "</style>\n",
       "<table border=\"1\" class=\"dataframe\">\n",
       "  <thead>\n",
       "    <tr style=\"text-align: right;\">\n",
       "      <th></th>\n",
       "      <th>company_name</th>\n",
       "      <th>city</th>\n",
       "      <th>job_title</th>\n",
       "    </tr>\n",
       "  </thead>\n",
       "  <tbody>\n",
       "    <tr>\n",
       "      <th>90</th>\n",
       "      <td>Amazon.com Services, Inc.</td>\n",
       "      <td>Seattle</td>\n",
       "      <td>117</td>\n",
       "    </tr>\n",
       "    <tr>\n",
       "      <th>470</th>\n",
       "      <td>GreatCall</td>\n",
       "      <td>San Diego</td>\n",
       "      <td>112</td>\n",
       "    </tr>\n",
       "    <tr>\n",
       "      <th>1095</th>\n",
       "      <td>ViaSat</td>\n",
       "      <td>Carlsbad</td>\n",
       "      <td>111</td>\n",
       "    </tr>\n",
       "    <tr>\n",
       "      <th>247</th>\n",
       "      <td>Chan Zuckerberg Initiative</td>\n",
       "      <td>Redwood City</td>\n",
       "      <td>109</td>\n",
       "    </tr>\n",
       "    <tr>\n",
       "      <th>704</th>\n",
       "      <td>Nextdoor</td>\n",
       "      <td>San Francisco</td>\n",
       "      <td>109</td>\n",
       "    </tr>\n",
       "  </tbody>\n",
       "</table>\n",
       "</div>"
      ],
      "text/plain": [
       "                    company_name           city  job_title\n",
       "90     Amazon.com Services, Inc.        Seattle        117\n",
       "470                    GreatCall      San Diego        112\n",
       "1095                      ViaSat       Carlsbad        111\n",
       "247   Chan Zuckerberg Initiative   Redwood City        109\n",
       "704                     Nextdoor  San Francisco        109"
      ]
     },
     "execution_count": 4,
     "metadata": {},
     "output_type": "execute_result"
    }
   ],
   "source": [
    "role_city = role_city.sort_values(['job_title'], ascending=False).head(10)\n",
    "role_city.head()"
   ]
  },
  {
   "cell_type": "code",
   "execution_count": 6,
   "metadata": {},
   "outputs": [
    {
     "data": {
      "text/plain": [
       "Text(0.5, 1.0, 'Role & City')"
      ]
     },
     "execution_count": 6,
     "metadata": {},
     "output_type": "execute_result"
    },
    {
     "data": {
      "image/png": "[encoded data removed]",
      "text/plain": [
       "<Figure size 432x288 with 1 Axes>"
      ]
     },
     "metadata": {
      "needs_background": "light"
     },
     "output_type": "display_data"
    }
   ],
   "source": [
    "a = seaborn.barplot(x=\"company_name\", y=\"job_title\", hue=\"city\", data=role_city, dodge=False);\n",
    "a.set_xticklabels(role_city['company_name'],rotation=90)   \n",
    "a.set_ylabel('No Of Positions',fontsize=12, color='dimgrey')\n",
    "a.set_xlabel('Company Name',fontsize=12, color='dimgrey')   \n",
    "a.set_title('Role & City', fontsize=16)"
   ]
  },
  {
   "cell_type": "code",
   "execution_count": 9,
   "metadata": {},
   "outputs": [
    {
     "data": {
      "text/plain": [
       "<Figure size 432x288 with 0 Axes>"
      ]
     },
     "metadata": {},
     "output_type": "display_data"
    }
   ],
   "source": [
    "plt.savefig(\"../role_city_plot.png\")"
   ]
  },
  {
   "cell_type": "code",
   "execution_count": null,
   "metadata": {},
   "outputs": [],
   "source": []
  }
 ],
 "metadata": {
  "kernelspec": {
   "display_name": "Python 3",
   "language": "python",
   "name": "python3"
  },
  "language_info": {
   "codemirror_mode": {
    "name": "ipython",
    "version": 3
   },
   "file_extension": ".py",
   "mimetype": "text/x-python",
   "name": "python",
   "nbconvert_exporter": "python",
   "pygments_lexer": "ipython3",
   "version": "3.7.3"
  }
 },
 "nbformat": 4,
 "nbformat_minor": 2
}
