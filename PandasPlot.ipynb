{
 "cells": [
  {
   "cell_type": "code",
   "execution_count": 1,
   "metadata": {},
   "outputs": [],
   "source": [
    "import pandas as pd\n",
    "import seaborn\n",
    "import matplotlib.pyplot as plt"
   ]
  },
  {
   "cell_type": "code",
   "execution_count": 2,
   "metadata": {},
   "outputs": [
    {
     "data": {
      "text/html": [
       "<div>\n",
       "<style scoped>\n",
       "    .dataframe tbody tr th:only-of-type {\n",
       "        vertical-align: middle;\n",
       "    }\n",
       "\n",
       "    .dataframe tbody tr th {\n",
       "        vertical-align: top;\n",
       "    }\n",
       "\n",
       "    .dataframe thead th {\n",
       "        text-align: right;\n",
       "    }\n",
       "</style>\n",
       "<table border=\"1\" class=\"dataframe\">\n",
       "  <thead>\n",
       "    <tr style=\"text-align: right;\">\n",
       "      <th></th>\n",
       "      <th>company_name</th>\n",
       "      <th>title</th>\n",
       "      <th>job_title</th>\n",
       "      <th>job_summary</th>\n",
       "      <th>city</th>\n",
       "      <th>state</th>\n",
       "      <th>state1</th>\n",
       "      <th>region</th>\n",
       "    </tr>\n",
       "  </thead>\n",
       "  <tbody>\n",
       "    <tr>\n",
       "      <th>0</th>\n",
       "      <td>KIPP Foundation</td>\n",
       "      <td>Data Analyst</td>\n",
       "      <td>Data Analyst</td>\n",
       "      <td>KIPP Chicago seeks a full-time Data Analyst fo...</td>\n",
       "      <td>Chicago</td>\n",
       "      <td>IL</td>\n",
       "      <td>Illinois</td>\n",
       "      <td>Midwest</td>\n",
       "    </tr>\n",
       "    <tr>\n",
       "      <th>1</th>\n",
       "      <td>Magnum Insurance Agency</td>\n",
       "      <td>Data Analyst</td>\n",
       "      <td>Junior Data Analyst</td>\n",
       "      <td>Experience with python for data analysis.Magnu...</td>\n",
       "      <td>Des Plaines</td>\n",
       "      <td>IL</td>\n",
       "      <td>Illinois</td>\n",
       "      <td>Midwest</td>\n",
       "    </tr>\n",
       "    <tr>\n",
       "      <th>2</th>\n",
       "      <td>Everywhere Wireless</td>\n",
       "      <td>Data Analyst</td>\n",
       "      <td>Senior Data Analyst, Finance</td>\n",
       "      <td>Experience with scripting languages like Pytho...</td>\n",
       "      <td>Chicago</td>\n",
       "      <td>IL</td>\n",
       "      <td>Illinois</td>\n",
       "      <td>Midwest</td>\n",
       "    </tr>\n",
       "    <tr>\n",
       "      <th>3</th>\n",
       "      <td>5thColumn</td>\n",
       "      <td>Data Analyst</td>\n",
       "      <td>Senior Data Scientist</td>\n",
       "      <td>The Data Scientist / Data Analyst role will be...</td>\n",
       "      <td>Chicago</td>\n",
       "      <td>IL</td>\n",
       "      <td>Illinois</td>\n",
       "      <td>Midwest</td>\n",
       "    </tr>\n",
       "    <tr>\n",
       "      <th>4</th>\n",
       "      <td>Top-Line Furniture</td>\n",
       "      <td>Data Analyst</td>\n",
       "      <td>Business Data Analyst</td>\n",
       "      <td>Reconfigure data as necessary to conform to sy...</td>\n",
       "      <td>Itasca</td>\n",
       "      <td>IL</td>\n",
       "      <td>Illinois</td>\n",
       "      <td>Midwest</td>\n",
       "    </tr>\n",
       "  </tbody>\n",
       "</table>\n",
       "</div>"
      ],
      "text/plain": [
       "              company_name         title                     job_title  \\\n",
       "0          KIPP Foundation  Data Analyst                  Data Analyst   \n",
       "1  Magnum Insurance Agency  Data Analyst           Junior Data Analyst   \n",
       "2      Everywhere Wireless  Data Analyst  Senior Data Analyst, Finance   \n",
       "3                5thColumn  Data Analyst         Senior Data Scientist   \n",
       "4       Top-Line Furniture  Data Analyst         Business Data Analyst   \n",
       "\n",
       "                                         job_summary         city state  \\\n",
       "0  KIPP Chicago seeks a full-time Data Analyst fo...      Chicago    IL   \n",
       "1  Experience with python for data analysis.Magnu...  Des Plaines    IL   \n",
       "2  Experience with scripting languages like Pytho...      Chicago    IL   \n",
       "3  The Data Scientist / Data Analyst role will be...      Chicago    IL   \n",
       "4  Reconfigure data as necessary to conform to sy...       Itasca    IL   \n",
       "\n",
       "     state1   region  \n",
       "0  Illinois  Midwest  \n",
       "1  Illinois  Midwest  \n",
       "2  Illinois  Midwest  \n",
       "3  Illinois  Midwest  \n",
       "4  Illinois  Midwest  "
      ]
     },
     "execution_count": 2,
     "metadata": {},
     "output_type": "execute_result"
    }
   ],
   "source": [
    "file_to_load = \"db/indeed_jobs_byregion.csv\"\n",
    "\n",
    "# Read Purchasing File and store into Pandas data frame\n",
    "job_data = pd.read_csv(file_to_load)\n",
    "job_data.head()"
   ]
  },
  {
   "cell_type": "code",
   "execution_count": 3,
   "metadata": {},
   "outputs": [
    {
     "data": {
      "text/html": [
       "<div>\n",
       "<style scoped>\n",
       "    .dataframe tbody tr th:only-of-type {\n",
       "        vertical-align: middle;\n",
       "    }\n",
       "\n",
       "    .dataframe tbody tr th {\n",
       "        vertical-align: top;\n",
       "    }\n",
       "\n",
       "    .dataframe thead th {\n",
       "        text-align: right;\n",
       "    }\n",
       "</style>\n",
       "<table border=\"1\" class=\"dataframe\">\n",
       "  <thead>\n",
       "    <tr style=\"text-align: right;\">\n",
       "      <th></th>\n",
       "      <th>company_name</th>\n",
       "      <th>city</th>\n",
       "      <th>job_title</th>\n",
       "    </tr>\n",
       "  </thead>\n",
       "  <tbody>\n",
       "    <tr>\n",
       "      <th>0</th>\n",
       "      <td>#TeamGoHealth</td>\n",
       "      <td>Chicago</td>\n",
       "      <td>4</td>\n",
       "    </tr>\n",
       "    <tr>\n",
       "      <th>1</th>\n",
       "      <td>360i</td>\n",
       "      <td>Chicago</td>\n",
       "      <td>1</td>\n",
       "    </tr>\n",
       "    <tr>\n",
       "      <th>2</th>\n",
       "      <td>3M</td>\n",
       "      <td>Murray</td>\n",
       "      <td>2</td>\n",
       "    </tr>\n",
       "    <tr>\n",
       "      <th>3</th>\n",
       "      <td>4th-IR</td>\n",
       "      <td>New York</td>\n",
       "      <td>2</td>\n",
       "    </tr>\n",
       "    <tr>\n",
       "      <th>4</th>\n",
       "      <td>5thColumn</td>\n",
       "      <td>Chicago</td>\n",
       "      <td>2</td>\n",
       "    </tr>\n",
       "  </tbody>\n",
       "</table>\n",
       "</div>"
      ],
      "text/plain": [
       "    company_name      city  job_title\n",
       "0  #TeamGoHealth   Chicago          4\n",
       "1           360i   Chicago          1\n",
       "2             3M    Murray          2\n",
       "3         4th-IR  New York          2\n",
       "4      5thColumn   Chicago          2"
      ]
     },
     "execution_count": 3,
     "metadata": {},
     "output_type": "execute_result"
    }
   ],
   "source": [
    "role_city = job_data.groupby(['company_name','city'])[['job_title']].count()\n",
    "role_city = role_city.reset_index()\n",
    "role_city.head()"
   ]
  },
  {
   "cell_type": "code",
   "execution_count": 4,
   "metadata": {},
   "outputs": [
    {
     "data": {
      "text/html": [
       "<div>\n",
       "<style scoped>\n",
       "    .dataframe tbody tr th:only-of-type {\n",
       "        vertical-align: middle;\n",
       "    }\n",
       "\n",
       "    .dataframe tbody tr th {\n",
       "        vertical-align: top;\n",
       "    }\n",
       "\n",
       "    .dataframe thead th {\n",
       "        text-align: right;\n",
       "    }\n",
       "</style>\n",
       "<table border=\"1\" class=\"dataframe\">\n",
       "  <thead>\n",
       "    <tr style=\"text-align: right;\">\n",
       "      <th></th>\n",
       "      <th>company_name</th>\n",
       "      <th>city</th>\n",
       "      <th>job_title</th>\n",
       "    </tr>\n",
       "  </thead>\n",
       "  <tbody>\n",
       "    <tr>\n",
       "      <th>90</th>\n",
       "      <td>Amazon.com Services, Inc.</td>\n",
       "      <td>Seattle</td>\n",
       "      <td>117</td>\n",
       "    </tr>\n",
       "    <tr>\n",
       "      <th>470</th>\n",
       "      <td>GreatCall</td>\n",
       "      <td>San Diego</td>\n",
       "      <td>112</td>\n",
       "    </tr>\n",
       "    <tr>\n",
       "      <th>1095</th>\n",
       "      <td>ViaSat</td>\n",
       "      <td>Carlsbad</td>\n",
       "      <td>111</td>\n",
       "    </tr>\n",
       "    <tr>\n",
       "      <th>247</th>\n",
       "      <td>Chan Zuckerberg Initiative</td>\n",
       "      <td>Redwood City</td>\n",
       "      <td>109</td>\n",
       "    </tr>\n",
       "    <tr>\n",
       "      <th>704</th>\n",
       "      <td>Nextdoor</td>\n",
       "      <td>San Francisco</td>\n",
       "      <td>109</td>\n",
       "    </tr>\n",
       "  </tbody>\n",
       "</table>\n",
       "</div>"
      ],
      "text/plain": [
       "                    company_name           city  job_title\n",
       "90     Amazon.com Services, Inc.        Seattle        117\n",
       "470                    GreatCall      San Diego        112\n",
       "1095                      ViaSat       Carlsbad        111\n",
       "247   Chan Zuckerberg Initiative   Redwood City        109\n",
       "704                     Nextdoor  San Francisco        109"
      ]
     },
     "execution_count": 4,
     "metadata": {},
     "output_type": "execute_result"
    }
   ],
   "source": [
    "role_city = role_city.sort_values(['job_title'], ascending=False).head(10)\n",
    "role_city.head()"
   ]
  },
  {
   "cell_type": "code",
   "execution_count": 5,
   "metadata": {},
   "outputs": [
    {
     "data": {
      "text/plain": [
       "Text(0.5, 1.0, 'Role & City')"
      ]
     },
     "execution_count": 5,
     "metadata": {},
     "output_type": "execute_result"
    },
    {
     "data": {
      "image/png": "[encoded data removed]",
      "text/plain": [
       "<Figure size 432x288 with 1 Axes>"
      ]
     },
     "metadata": {
      "needs_background": "light"
     },
     "output_type": "display_data"
    }
   ],
   "source": [
    "a = seaborn.barplot(x=\"company_name\", y=\"job_title\", hue=\"city\", data=role_city, dodge=False);\n",
    "a.set_xticklabels(role_city['company_name'],rotation=90)   \n",
    "a.set_ylabel('No Of Positions',fontsize=12, color='dimgrey')\n",
    "a.set_xlabel('Company Name',fontsize=12, color='dimgrey')   \n",
    "a.set_title('Role & City', fontsize=16)"
   ]
  },
  {
   "cell_type": "code",
   "execution_count": 23,
   "metadata": {},
   "outputs": [],
   "source": [
    "fig = a.get_figure()\n",
    "fig.savefig(\"./role_city_plot.png\") \n"
   ]
  },
  {
   "cell_type": "code",
   "execution_count": 7,
   "metadata": {},
   "outputs": [
    {
     "data": {
      "text/html": [
       "<div>\n",
       "<style scoped>\n",
       "    .dataframe tbody tr th:only-of-type {\n",
       "        vertical-align: middle;\n",
       "    }\n",
       "\n",
       "    .dataframe tbody tr th {\n",
       "        vertical-align: top;\n",
       "    }\n",
       "\n",
       "    .dataframe thead th {\n",
       "        text-align: right;\n",
       "    }\n",
       "</style>\n",
       "<table border=\"1\" class=\"dataframe\">\n",
       "  <thead>\n",
       "    <tr style=\"text-align: right;\">\n",
       "      <th></th>\n",
       "      <th>company_name</th>\n",
       "      <th>state</th>\n",
       "      <th>job_title</th>\n",
       "    </tr>\n",
       "  </thead>\n",
       "  <tbody>\n",
       "    <tr>\n",
       "      <th>0</th>\n",
       "      <td>#TeamGoHealth</td>\n",
       "      <td>IL</td>\n",
       "      <td>4</td>\n",
       "    </tr>\n",
       "    <tr>\n",
       "      <th>1</th>\n",
       "      <td>360i</td>\n",
       "      <td>IL</td>\n",
       "      <td>1</td>\n",
       "    </tr>\n",
       "    <tr>\n",
       "      <th>2</th>\n",
       "      <td>3M</td>\n",
       "      <td>UT</td>\n",
       "      <td>2</td>\n",
       "    </tr>\n",
       "    <tr>\n",
       "      <th>3</th>\n",
       "      <td>4th-IR</td>\n",
       "      <td>NY</td>\n",
       "      <td>2</td>\n",
       "    </tr>\n",
       "    <tr>\n",
       "      <th>4</th>\n",
       "      <td>5thColumn</td>\n",
       "      <td>IL</td>\n",
       "      <td>2</td>\n",
       "    </tr>\n",
       "  </tbody>\n",
       "</table>\n",
       "</div>"
      ],
      "text/plain": [
       "    company_name state  job_title\n",
       "0  #TeamGoHealth    IL          4\n",
       "1           360i    IL          1\n",
       "2             3M    UT          2\n",
       "3         4th-IR    NY          2\n",
       "4      5thColumn    IL          2"
      ]
     },
     "execution_count": 7,
     "metadata": {},
     "output_type": "execute_result"
    }
   ],
   "source": [
    "staterole=job_data.groupby(['company_name','state'])[['job_title']].count()\n",
    "staterole = staterole.reset_index()\n",
    "staterole.head()"
   ]
  },
  {
   "cell_type": "code",
   "execution_count": 8,
   "metadata": {},
   "outputs": [
    {
     "data": {
      "text/html": [
       "<div>\n",
       "<style scoped>\n",
       "    .dataframe tbody tr th:only-of-type {\n",
       "        vertical-align: middle;\n",
       "    }\n",
       "\n",
       "    .dataframe tbody tr th {\n",
       "        vertical-align: top;\n",
       "    }\n",
       "\n",
       "    .dataframe thead th {\n",
       "        text-align: right;\n",
       "    }\n",
       "</style>\n",
       "<table border=\"1\" class=\"dataframe\">\n",
       "  <thead>\n",
       "    <tr style=\"text-align: right;\">\n",
       "      <th></th>\n",
       "      <th>company_name</th>\n",
       "      <th>state</th>\n",
       "      <th>job_title</th>\n",
       "    </tr>\n",
       "  </thead>\n",
       "  <tbody>\n",
       "    <tr>\n",
       "      <th>85</th>\n",
       "      <td>Amazon.com Services, Inc.</td>\n",
       "      <td>WA</td>\n",
       "      <td>125</td>\n",
       "    </tr>\n",
       "    <tr>\n",
       "      <th>450</th>\n",
       "      <td>GreatCall</td>\n",
       "      <td>CA</td>\n",
       "      <td>112</td>\n",
       "    </tr>\n",
       "    <tr>\n",
       "      <th>1058</th>\n",
       "      <td>ViaSat</td>\n",
       "      <td>CA</td>\n",
       "      <td>111</td>\n",
       "    </tr>\n",
       "    <tr>\n",
       "      <th>680</th>\n",
       "      <td>Nextdoor</td>\n",
       "      <td>CA</td>\n",
       "      <td>109</td>\n",
       "    </tr>\n",
       "    <tr>\n",
       "      <th>233</th>\n",
       "      <td>Chan Zuckerberg Initiative</td>\n",
       "      <td>CA</td>\n",
       "      <td>109</td>\n",
       "    </tr>\n",
       "  </tbody>\n",
       "</table>\n",
       "</div>"
      ],
      "text/plain": [
       "                    company_name state  job_title\n",
       "85     Amazon.com Services, Inc.    WA        125\n",
       "450                    GreatCall    CA        112\n",
       "1058                      ViaSat    CA        111\n",
       "680                     Nextdoor    CA        109\n",
       "233   Chan Zuckerberg Initiative    CA        109"
      ]
     },
     "execution_count": 8,
     "metadata": {},
     "output_type": "execute_result"
    }
   ],
   "source": [
    "staterole = staterole.sort_values(['job_title'], ascending=False).head(10)\n",
    "staterole.head()"
   ]
  },
  {
   "cell_type": "code",
   "execution_count": 9,
   "metadata": {},
   "outputs": [
    {
     "data": {
      "text/plain": [
       "Text(0.5, 1.0, 'Role & State')"
      ]
     },
     "execution_count": 9,
     "metadata": {},
     "output_type": "execute_result"
    },
    {
     "data": {
      "image/png": "[encoded data removed]",
      "text/plain": [
       "<Figure size 432x288 with 1 Axes>"
      ]
     },
     "metadata": {
      "needs_background": "light"
     },
     "output_type": "display_data"
    }
   ],
   "source": [
    "b = seaborn.barplot(x=\"state\", y=\"job_title\", hue=\"company_name\", data=staterole, dodge=False);\n",
    "b.set_xticklabels(staterole['state'],rotation=90)   \n",
    "b.set_ylabel('No Of Positions',fontsize=12, color='dimgrey')\n",
    "b.set_xlabel('State',fontsize=12, color='dimgrey')   \n",
    "b.set_title('Role & State', fontsize=16)\n"
   ]
  },
  {
   "cell_type": "code",
   "execution_count": 25,
   "metadata": {},
   "outputs": [],
   "source": [
    "fig2 = b.get_figure()\n",
    "fig2.savefig(\"./role_state_plot.png\") "
   ]
  },
  {
   "cell_type": "code",
   "execution_count": 11,
   "metadata": {},
   "outputs": [
    {
     "data": {
      "text/html": [
       "<div>\n",
       "<style scoped>\n",
       "    .dataframe tbody tr th:only-of-type {\n",
       "        vertical-align: middle;\n",
       "    }\n",
       "\n",
       "    .dataframe tbody tr th {\n",
       "        vertical-align: top;\n",
       "    }\n",
       "\n",
       "    .dataframe thead th {\n",
       "        text-align: right;\n",
       "    }\n",
       "</style>\n",
       "<table border=\"1\" class=\"dataframe\">\n",
       "  <thead>\n",
       "    <tr style=\"text-align: right;\">\n",
       "      <th></th>\n",
       "      <th>company</th>\n",
       "      <th>position</th>\n",
       "      <th>reviews</th>\n",
       "      <th>Region</th>\n",
       "      <th>City</th>\n",
       "      <th>State</th>\n",
       "    </tr>\n",
       "  </thead>\n",
       "  <tbody>\n",
       "    <tr>\n",
       "      <th>0</th>\n",
       "      <td>Study.com</td>\n",
       "      <td>data analyst</td>\n",
       "      <td>5</td>\n",
       "      <td>West</td>\n",
       "      <td>Mountain View</td>\n",
       "      <td>CA</td>\n",
       "    </tr>\n",
       "    <tr>\n",
       "      <th>1</th>\n",
       "      <td>TripActions</td>\n",
       "      <td>data analyst</td>\n",
       "      <td>5</td>\n",
       "      <td>West</td>\n",
       "      <td>Palo Alto</td>\n",
       "      <td>CA</td>\n",
       "    </tr>\n",
       "    <tr>\n",
       "      <th>2</th>\n",
       "      <td>Twitch</td>\n",
       "      <td>data analyst</td>\n",
       "      <td>5</td>\n",
       "      <td>West</td>\n",
       "      <td>San Francisco</td>\n",
       "      <td>CA</td>\n",
       "    </tr>\n",
       "    <tr>\n",
       "      <th>3</th>\n",
       "      <td>CVPartners</td>\n",
       "      <td>data analyst</td>\n",
       "      <td>0</td>\n",
       "      <td>West</td>\n",
       "      <td>Redwood City</td>\n",
       "      <td>CA</td>\n",
       "    </tr>\n",
       "    <tr>\n",
       "      <th>4</th>\n",
       "      <td>Castlight Health</td>\n",
       "      <td>data analyst</td>\n",
       "      <td>5</td>\n",
       "      <td>West</td>\n",
       "      <td>San Francisco</td>\n",
       "      <td>CA</td>\n",
       "    </tr>\n",
       "  </tbody>\n",
       "</table>\n",
       "</div>"
      ],
      "text/plain": [
       "            company      position  reviews Region           City State\n",
       "0         Study.com  data analyst        5   West  Mountain View    CA\n",
       "1       TripActions  data analyst        5   West      Palo Alto    CA\n",
       "2            Twitch  data analyst        5   West  San Francisco    CA\n",
       "3        CVPartners  data analyst        0   West   Redwood City    CA\n",
       "4  Castlight Health  data analyst        5   West  San Francisco    CA"
      ]
     },
     "execution_count": 11,
     "metadata": {},
     "output_type": "execute_result"
    }
   ],
   "source": [
    "file2_to_load = \"db/Glassdoor.csv\"\n",
    "\n",
    "# Read Purchasing File and store into Pandas data frame\n",
    "glass_data = pd.read_csv(file2_to_load)\n",
    "glass_data.head()"
   ]
  },
  {
   "cell_type": "code",
   "execution_count": 12,
   "metadata": {},
   "outputs": [
    {
     "data": {
      "text/html": [
       "<div>\n",
       "<style scoped>\n",
       "    .dataframe tbody tr th:only-of-type {\n",
       "        vertical-align: middle;\n",
       "    }\n",
       "\n",
       "    .dataframe tbody tr th {\n",
       "        vertical-align: top;\n",
       "    }\n",
       "\n",
       "    .dataframe thead th {\n",
       "        text-align: right;\n",
       "    }\n",
       "</style>\n",
       "<table border=\"1\" class=\"dataframe\">\n",
       "  <thead>\n",
       "    <tr style=\"text-align: right;\">\n",
       "      <th></th>\n",
       "      <th>company</th>\n",
       "      <th>City</th>\n",
       "      <th>position</th>\n",
       "    </tr>\n",
       "  </thead>\n",
       "  <tbody>\n",
       "    <tr>\n",
       "      <th>0</th>\n",
       "      <td>091 Cigna Health &amp; Life Ins. Co.</td>\n",
       "      <td>Bloomfield</td>\n",
       "      <td>2</td>\n",
       "    </tr>\n",
       "    <tr>\n",
       "      <th>1</th>\n",
       "      <td>1-800-Flowers.com</td>\n",
       "      <td>Melrose Park</td>\n",
       "      <td>2</td>\n",
       "    </tr>\n",
       "    <tr>\n",
       "      <th>2</th>\n",
       "      <td>1871 Member Companies</td>\n",
       "      <td>Chicago</td>\n",
       "      <td>2</td>\n",
       "    </tr>\n",
       "    <tr>\n",
       "      <th>3</th>\n",
       "      <td>1904labs</td>\n",
       "      <td>Saint Louis</td>\n",
       "      <td>2</td>\n",
       "    </tr>\n",
       "    <tr>\n",
       "      <th>4</th>\n",
       "      <td>22nd Century Technologies</td>\n",
       "      <td>Arlington</td>\n",
       "      <td>8</td>\n",
       "    </tr>\n",
       "  </tbody>\n",
       "</table>\n",
       "</div>"
      ],
      "text/plain": [
       "                            company          City  position\n",
       "0  091 Cigna Health & Life Ins. Co.    Bloomfield         2\n",
       "1                 1-800-Flowers.com  Melrose Park         2\n",
       "2             1871 Member Companies       Chicago         2\n",
       "3                          1904labs   Saint Louis         2\n",
       "4         22nd Century Technologies     Arlington         8"
      ]
     },
     "execution_count": 12,
     "metadata": {},
     "output_type": "execute_result"
    }
   ],
   "source": [
    "role_city2 = glass_data.groupby(['company','City'])[['position']].count()\n",
    "role_city2 = role_city2.reset_index()\n",
    "role_city2.head()"
   ]
  },
  {
   "cell_type": "code",
   "execution_count": 13,
   "metadata": {},
   "outputs": [
    {
     "data": {
      "text/html": [
       "<div>\n",
       "<style scoped>\n",
       "    .dataframe tbody tr th:only-of-type {\n",
       "        vertical-align: middle;\n",
       "    }\n",
       "\n",
       "    .dataframe tbody tr th {\n",
       "        vertical-align: top;\n",
       "    }\n",
       "\n",
       "    .dataframe thead th {\n",
       "        text-align: right;\n",
       "    }\n",
       "</style>\n",
       "<table border=\"1\" class=\"dataframe\">\n",
       "  <thead>\n",
       "    <tr style=\"text-align: right;\">\n",
       "      <th></th>\n",
       "      <th>company</th>\n",
       "      <th>City</th>\n",
       "      <th>position</th>\n",
       "    </tr>\n",
       "  </thead>\n",
       "  <tbody>\n",
       "    <tr>\n",
       "      <th>130</th>\n",
       "      <td>Amazon</td>\n",
       "      <td>Seattle</td>\n",
       "      <td>32</td>\n",
       "    </tr>\n",
       "    <tr>\n",
       "      <th>133</th>\n",
       "      <td>Amazon Corporate LLC</td>\n",
       "      <td>Seattle</td>\n",
       "      <td>22</td>\n",
       "    </tr>\n",
       "    <tr>\n",
       "      <th>1697</th>\n",
       "      <td>Target</td>\n",
       "      <td>Minneapolis</td>\n",
       "      <td>20</td>\n",
       "    </tr>\n",
       "    <tr>\n",
       "      <th>392</th>\n",
       "      <td>Capital One</td>\n",
       "      <td>McLean</td>\n",
       "      <td>20</td>\n",
       "    </tr>\n",
       "    <tr>\n",
       "      <th>1260</th>\n",
       "      <td>Novartis</td>\n",
       "      <td>Cambridge</td>\n",
       "      <td>18</td>\n",
       "    </tr>\n",
       "  </tbody>\n",
       "</table>\n",
       "</div>"
      ],
      "text/plain": [
       "                   company         City  position\n",
       "130                 Amazon      Seattle        32\n",
       "133   Amazon Corporate LLC      Seattle        22\n",
       "1697                Target  Minneapolis        20\n",
       "392            Capital One       McLean        20\n",
       "1260              Novartis    Cambridge        18"
      ]
     },
     "execution_count": 13,
     "metadata": {},
     "output_type": "execute_result"
    }
   ],
   "source": [
    "role_city2 = role_city2.sort_values(['position'], ascending=False).head(10)\n",
    "role_city2.head()"
   ]
  },
  {
   "cell_type": "code",
   "execution_count": 14,
   "metadata": {},
   "outputs": [
    {
     "data": {
      "text/plain": [
       "Text(0.5, 1.0, 'Role & City')"
      ]
     },
     "execution_count": 14,
     "metadata": {},
     "output_type": "execute_result"
    },
    {
     "data": {
      "image/png": "[encoded data removed]",
      "text/plain": [
       "<Figure size 432x288 with 1 Axes>"
      ]
     },
     "metadata": {
      "needs_background": "light"
     },
     "output_type": "display_data"
    }
   ],
   "source": [
    "c = seaborn.barplot(x=\"company\", y=\"position\", hue=\"City\", data=role_city2, dodge=False);\n",
    "c.set_xticklabels(role_city2['company'],rotation=90)   \n",
    "c.set_ylabel('No Of Positions',fontsize=12, color='dimgrey')\n",
    "c.set_xlabel('Company Name',fontsize=12, color='dimgrey')   \n",
    "c.set_title('Role & City', fontsize=16)"
   ]
  },
  {
   "cell_type": "code",
   "execution_count": 26,
   "metadata": {},
   "outputs": [],
   "source": [
    "fig3 = b.get_figure()\n",
    "fig3.savefig(\"./glass_city_plot.png\") "
   ]
  },
  {
   "cell_type": "code",
   "execution_count": 16,
   "metadata": {},
   "outputs": [
    {
     "data": {
      "text/html": [
       "<div>\n",
       "<style scoped>\n",
       "    .dataframe tbody tr th:only-of-type {\n",
       "        vertical-align: middle;\n",
       "    }\n",
       "\n",
       "    .dataframe tbody tr th {\n",
       "        vertical-align: top;\n",
       "    }\n",
       "\n",
       "    .dataframe thead th {\n",
       "        text-align: right;\n",
       "    }\n",
       "</style>\n",
       "<table border=\"1\" class=\"dataframe\">\n",
       "  <thead>\n",
       "    <tr style=\"text-align: right;\">\n",
       "      <th></th>\n",
       "      <th>company_name</th>\n",
       "      <th>state</th>\n",
       "      <th>job_title</th>\n",
       "    </tr>\n",
       "  </thead>\n",
       "  <tbody>\n",
       "    <tr>\n",
       "      <th>85</th>\n",
       "      <td>Amazon.com Services, Inc.</td>\n",
       "      <td>WA</td>\n",
       "      <td>125</td>\n",
       "    </tr>\n",
       "    <tr>\n",
       "      <th>450</th>\n",
       "      <td>GreatCall</td>\n",
       "      <td>CA</td>\n",
       "      <td>112</td>\n",
       "    </tr>\n",
       "    <tr>\n",
       "      <th>1058</th>\n",
       "      <td>ViaSat</td>\n",
       "      <td>CA</td>\n",
       "      <td>111</td>\n",
       "    </tr>\n",
       "    <tr>\n",
       "      <th>680</th>\n",
       "      <td>Nextdoor</td>\n",
       "      <td>CA</td>\n",
       "      <td>109</td>\n",
       "    </tr>\n",
       "    <tr>\n",
       "      <th>233</th>\n",
       "      <td>Chan Zuckerberg Initiative</td>\n",
       "      <td>CA</td>\n",
       "      <td>109</td>\n",
       "    </tr>\n",
       "  </tbody>\n",
       "</table>\n",
       "</div>"
      ],
      "text/plain": [
       "                    company_name state  job_title\n",
       "85     Amazon.com Services, Inc.    WA        125\n",
       "450                    GreatCall    CA        112\n",
       "1058                      ViaSat    CA        111\n",
       "680                     Nextdoor    CA        109\n",
       "233   Chan Zuckerberg Initiative    CA        109"
      ]
     },
     "execution_count": 16,
     "metadata": {},
     "output_type": "execute_result"
    }
   ],
   "source": [
    "staterole2=glass_data.groupby(['company','State'])[['position']].count()\n",
    "staterole2 = staterole2.reset_index()\n",
    "staterole.head()"
   ]
  },
  {
   "cell_type": "code",
   "execution_count": 17,
   "metadata": {},
   "outputs": [
    {
     "data": {
      "text/html": [
       "<div>\n",
       "<style scoped>\n",
       "    .dataframe tbody tr th:only-of-type {\n",
       "        vertical-align: middle;\n",
       "    }\n",
       "\n",
       "    .dataframe tbody tr th {\n",
       "        vertical-align: top;\n",
       "    }\n",
       "\n",
       "    .dataframe thead th {\n",
       "        text-align: right;\n",
       "    }\n",
       "</style>\n",
       "<table border=\"1\" class=\"dataframe\">\n",
       "  <thead>\n",
       "    <tr style=\"text-align: right;\">\n",
       "      <th></th>\n",
       "      <th>company</th>\n",
       "      <th>State</th>\n",
       "      <th>position</th>\n",
       "    </tr>\n",
       "  </thead>\n",
       "  <tbody>\n",
       "    <tr>\n",
       "      <th>123</th>\n",
       "      <td>Amazon</td>\n",
       "      <td>WA</td>\n",
       "      <td>32</td>\n",
       "    </tr>\n",
       "    <tr>\n",
       "      <th>125</th>\n",
       "      <td>Amazon Corporate LLC</td>\n",
       "      <td>WA</td>\n",
       "      <td>26</td>\n",
       "    </tr>\n",
       "    <tr>\n",
       "      <th>687</th>\n",
       "      <td>Fast Switch</td>\n",
       "      <td>MI</td>\n",
       "      <td>24</td>\n",
       "    </tr>\n",
       "    <tr>\n",
       "      <th>372</th>\n",
       "      <td>Capital One</td>\n",
       "      <td>VA</td>\n",
       "      <td>24</td>\n",
       "    </tr>\n",
       "    <tr>\n",
       "      <th>301</th>\n",
       "      <td>Booz Allen Hamilton Inc.</td>\n",
       "      <td>VA</td>\n",
       "      <td>23</td>\n",
       "    </tr>\n",
       "  </tbody>\n",
       "</table>\n",
       "</div>"
      ],
      "text/plain": [
       "                      company State  position\n",
       "123                    Amazon    WA        32\n",
       "125      Amazon Corporate LLC    WA        26\n",
       "687               Fast Switch    MI        24\n",
       "372               Capital One    VA        24\n",
       "301  Booz Allen Hamilton Inc.    VA        23"
      ]
     },
     "execution_count": 17,
     "metadata": {},
     "output_type": "execute_result"
    }
   ],
   "source": [
    "staterole2 = staterole2.sort_values(['position'], ascending=False).head(10)\n",
    "staterole2.head()"
   ]
  },
  {
   "cell_type": "code",
   "execution_count": 18,
   "metadata": {},
   "outputs": [
    {
     "data": {
      "text/plain": [
       "Text(0.5, 1.0, 'Role & State')"
      ]
     },
     "execution_count": 18,
     "metadata": {},
     "output_type": "execute_result"
    },
    {
     "data": {
      "image/png": "[encoded data removed]",
      "text/plain": [
       "<Figure size 432x288 with 1 Axes>"
      ]
     },
     "metadata": {
      "needs_background": "light"
     },
     "output_type": "display_data"
    }
   ],
   "source": [
    "d = seaborn.barplot(x=\"State\", y=\"position\", hue=\"company\", data=staterole2, dodge=False);\n",
    "d.set_xticklabels(staterole2['State'],rotation=90)   \n",
    "d.set_ylabel('No Of Positions',fontsize=12, color='dimgrey')\n",
    "d.set_xlabel('State',fontsize=12, color='dimgrey')   \n",
    "d.set_title('Role & State', fontsize=16)"
   ]
  },
  {
   "cell_type": "code",
   "execution_count": null,
   "metadata": {},
   "outputs": [],
   "source": []
  }
 ],
 "metadata": {
  "kernelspec": {
   "display_name": "Python 3",
   "language": "python",
   "name": "python3"
  },
  "language_info": {
   "codemirror_mode": {
    "name": "ipython",
    "version": 3
   },
   "file_extension": ".py",
   "mimetype": "text/x-python",
   "name": "python",
   "nbconvert_exporter": "python",
   "pygments_lexer": "ipython3",
   "version": "3.7.3"
  }
 },
 "nbformat": 4,
 "nbformat_minor": 2
}
